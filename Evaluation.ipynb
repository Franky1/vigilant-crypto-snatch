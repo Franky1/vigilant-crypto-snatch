{
 "cells": [
  {
   "cell_type": "code",
   "execution_count": 26,
   "metadata": {},
   "outputs": [],
   "source": [
    "import datetime\n",
    "import os\n",
    "\n",
    "import requests\n",
    "import pandas as pd\n",
    "import matplotlib.pyplot as pl\n",
    "import yaml\n",
    "import numpy as np"
   ]
  },
  {
   "cell_type": "code",
   "execution_count": 3,
   "metadata": {},
   "outputs": [],
   "source": [
    "with open(os.path.expanduser('~/.config/vigilant-crypto-snatch.yml')) as f:\n",
    "    config = yaml.safe_load(f)\n",
    "api_key = config['cryptocompare']['api_key']"
   ]
  },
  {
   "cell_type": "code",
   "execution_count": 4,
   "metadata": {},
   "outputs": [
    {
     "data": {
      "text/plain": [
       "1616249738"
      ]
     },
     "execution_count": 4,
     "metadata": {},
     "output_type": "execute_result"
    }
   ],
   "source": [
    "timestamp = int(datetime.datetime.now().timestamp())\n",
    "timestamp"
   ]
  },
  {
   "cell_type": "code",
   "execution_count": 5,
   "metadata": {},
   "outputs": [],
   "source": [
    "url = f'https://min-api.cryptocompare.com/data/histohour?api_key={api_key}&fsym=BTC&tsym=EUR&limit=2000&toTs={timestamp}'"
   ]
  },
  {
   "cell_type": "code",
   "execution_count": 6,
   "metadata": {},
   "outputs": [],
   "source": [
    "r = requests.get(url)"
   ]
  },
  {
   "cell_type": "code",
   "execution_count": 7,
   "metadata": {},
   "outputs": [
    {
     "data": {
      "text/plain": [
       "<Response [200]>"
      ]
     },
     "execution_count": 7,
     "metadata": {},
     "output_type": "execute_result"
    }
   ],
   "source": [
    "r"
   ]
  },
  {
   "cell_type": "code",
   "execution_count": 30,
   "metadata": {},
   "outputs": [],
   "source": [
    "data = r.json()['Data']\n",
    "df = pd.DataFrame(data)\n",
    "df['datetime'] = list(map(datetime.datetime.fromtimestamp, df['time']))"
   ]
  },
  {
   "cell_type": "code",
   "execution_count": 31,
   "metadata": {},
   "outputs": [
    {
     "data": {
      "text/html": [
       "<div>\n",
       "<style scoped>\n",
       "    .dataframe tbody tr th:only-of-type {\n",
       "        vertical-align: middle;\n",
       "    }\n",
       "\n",
       "    .dataframe tbody tr th {\n",
       "        vertical-align: top;\n",
       "    }\n",
       "\n",
       "    .dataframe thead th {\n",
       "        text-align: right;\n",
       "    }\n",
       "</style>\n",
       "<table border=\"1\" class=\"dataframe\">\n",
       "  <thead>\n",
       "    <tr style=\"text-align: right;\">\n",
       "      <th></th>\n",
       "      <th>time</th>\n",
       "      <th>high</th>\n",
       "      <th>low</th>\n",
       "      <th>open</th>\n",
       "      <th>volumefrom</th>\n",
       "      <th>volumeto</th>\n",
       "      <th>close</th>\n",
       "      <th>conversionType</th>\n",
       "      <th>conversionSymbol</th>\n",
       "      <th>datetime</th>\n",
       "    </tr>\n",
       "  </thead>\n",
       "  <tbody>\n",
       "    <tr>\n",
       "      <th>0</th>\n",
       "      <td>1609048800</td>\n",
       "      <td>22659.23</td>\n",
       "      <td>21970.89</td>\n",
       "      <td>21975.21</td>\n",
       "      <td>1817.48</td>\n",
       "      <td>40692787.44</td>\n",
       "      <td>22581.74</td>\n",
       "      <td>direct</td>\n",
       "      <td></td>\n",
       "      <td>2020-12-27 07:00:00</td>\n",
       "    </tr>\n",
       "    <tr>\n",
       "      <th>1</th>\n",
       "      <td>1609052400</td>\n",
       "      <td>22680.31</td>\n",
       "      <td>22452.10</td>\n",
       "      <td>22581.74</td>\n",
       "      <td>1072.69</td>\n",
       "      <td>24216731.48</td>\n",
       "      <td>22588.76</td>\n",
       "      <td>direct</td>\n",
       "      <td></td>\n",
       "      <td>2020-12-27 08:00:00</td>\n",
       "    </tr>\n",
       "    <tr>\n",
       "      <th>2</th>\n",
       "      <td>1609056000</td>\n",
       "      <td>22843.48</td>\n",
       "      <td>22377.87</td>\n",
       "      <td>22588.76</td>\n",
       "      <td>1983.46</td>\n",
       "      <td>44993542.12</td>\n",
       "      <td>22468.94</td>\n",
       "      <td>direct</td>\n",
       "      <td></td>\n",
       "      <td>2020-12-27 09:00:00</td>\n",
       "    </tr>\n",
       "    <tr>\n",
       "      <th>3</th>\n",
       "      <td>1609059600</td>\n",
       "      <td>22754.38</td>\n",
       "      <td>22321.87</td>\n",
       "      <td>22468.94</td>\n",
       "      <td>1329.94</td>\n",
       "      <td>30020405.63</td>\n",
       "      <td>22741.71</td>\n",
       "      <td>direct</td>\n",
       "      <td></td>\n",
       "      <td>2020-12-27 10:00:00</td>\n",
       "    </tr>\n",
       "    <tr>\n",
       "      <th>4</th>\n",
       "      <td>1609063200</td>\n",
       "      <td>22790.44</td>\n",
       "      <td>22648.87</td>\n",
       "      <td>22741.71</td>\n",
       "      <td>1014.26</td>\n",
       "      <td>23045329.41</td>\n",
       "      <td>22766.19</td>\n",
       "      <td>direct</td>\n",
       "      <td></td>\n",
       "      <td>2020-12-27 11:00:00</td>\n",
       "    </tr>\n",
       "    <tr>\n",
       "      <th>...</th>\n",
       "      <td>...</td>\n",
       "      <td>...</td>\n",
       "      <td>...</td>\n",
       "      <td>...</td>\n",
       "      <td>...</td>\n",
       "      <td>...</td>\n",
       "      <td>...</td>\n",
       "      <td>...</td>\n",
       "      <td>...</td>\n",
       "      <td>...</td>\n",
       "    </tr>\n",
       "    <tr>\n",
       "      <th>1996</th>\n",
       "      <td>1616234400</td>\n",
       "      <td>49564.58</td>\n",
       "      <td>49352.23</td>\n",
       "      <td>49483.03</td>\n",
       "      <td>213.29</td>\n",
       "      <td>10545408.62</td>\n",
       "      <td>49394.21</td>\n",
       "      <td>direct</td>\n",
       "      <td></td>\n",
       "      <td>2021-03-20 11:00:00</td>\n",
       "    </tr>\n",
       "    <tr>\n",
       "      <th>1997</th>\n",
       "      <td>1616238000</td>\n",
       "      <td>49836.89</td>\n",
       "      <td>49359.62</td>\n",
       "      <td>49394.21</td>\n",
       "      <td>344.81</td>\n",
       "      <td>17115707.94</td>\n",
       "      <td>49802.05</td>\n",
       "      <td>direct</td>\n",
       "      <td></td>\n",
       "      <td>2021-03-20 12:00:00</td>\n",
       "    </tr>\n",
       "    <tr>\n",
       "      <th>1998</th>\n",
       "      <td>1616241600</td>\n",
       "      <td>49851.39</td>\n",
       "      <td>49443.01</td>\n",
       "      <td>49802.05</td>\n",
       "      <td>341.22</td>\n",
       "      <td>16948646.71</td>\n",
       "      <td>49764.77</td>\n",
       "      <td>direct</td>\n",
       "      <td></td>\n",
       "      <td>2021-03-20 13:00:00</td>\n",
       "    </tr>\n",
       "    <tr>\n",
       "      <th>1999</th>\n",
       "      <td>1616245200</td>\n",
       "      <td>50203.07</td>\n",
       "      <td>49293.62</td>\n",
       "      <td>49764.77</td>\n",
       "      <td>1271.67</td>\n",
       "      <td>63456750.40</td>\n",
       "      <td>49626.71</td>\n",
       "      <td>direct</td>\n",
       "      <td></td>\n",
       "      <td>2021-03-20 14:00:00</td>\n",
       "    </tr>\n",
       "    <tr>\n",
       "      <th>2000</th>\n",
       "      <td>1616248800</td>\n",
       "      <td>49685.67</td>\n",
       "      <td>49439.41</td>\n",
       "      <td>49626.71</td>\n",
       "      <td>121.46</td>\n",
       "      <td>6017386.90</td>\n",
       "      <td>49549.22</td>\n",
       "      <td>direct</td>\n",
       "      <td></td>\n",
       "      <td>2021-03-20 15:00:00</td>\n",
       "    </tr>\n",
       "  </tbody>\n",
       "</table>\n",
       "<p>2001 rows × 10 columns</p>\n",
       "</div>"
      ],
      "text/plain": [
       "            time      high       low      open  volumefrom     volumeto  \\\n",
       "0     1609048800  22659.23  21970.89  21975.21     1817.48  40692787.44   \n",
       "1     1609052400  22680.31  22452.10  22581.74     1072.69  24216731.48   \n",
       "2     1609056000  22843.48  22377.87  22588.76     1983.46  44993542.12   \n",
       "3     1609059600  22754.38  22321.87  22468.94     1329.94  30020405.63   \n",
       "4     1609063200  22790.44  22648.87  22741.71     1014.26  23045329.41   \n",
       "...          ...       ...       ...       ...         ...          ...   \n",
       "1996  1616234400  49564.58  49352.23  49483.03      213.29  10545408.62   \n",
       "1997  1616238000  49836.89  49359.62  49394.21      344.81  17115707.94   \n",
       "1998  1616241600  49851.39  49443.01  49802.05      341.22  16948646.71   \n",
       "1999  1616245200  50203.07  49293.62  49764.77     1271.67  63456750.40   \n",
       "2000  1616248800  49685.67  49439.41  49626.71      121.46   6017386.90   \n",
       "\n",
       "         close conversionType conversionSymbol            datetime  \n",
       "0     22581.74         direct                  2020-12-27 07:00:00  \n",
       "1     22588.76         direct                  2020-12-27 08:00:00  \n",
       "2     22468.94         direct                  2020-12-27 09:00:00  \n",
       "3     22741.71         direct                  2020-12-27 10:00:00  \n",
       "4     22766.19         direct                  2020-12-27 11:00:00  \n",
       "...        ...            ...              ...                 ...  \n",
       "1996  49394.21         direct                  2021-03-20 11:00:00  \n",
       "1997  49802.05         direct                  2021-03-20 12:00:00  \n",
       "1998  49764.77         direct                  2021-03-20 13:00:00  \n",
       "1999  49626.71         direct                  2021-03-20 14:00:00  \n",
       "2000  49549.22         direct                  2021-03-20 15:00:00  \n",
       "\n",
       "[2001 rows x 10 columns]"
      ]
     },
     "execution_count": 31,
     "metadata": {},
     "output_type": "execute_result"
    }
   ],
   "source": [
    "df"
   ]
  },
  {
   "cell_type": "code",
   "execution_count": 33,
   "metadata": {},
   "outputs": [
    {
     "data": {
      "image/png": "[encoded data removed]",
      "text/plain": [
       "<Figure size 432x288 with 1 Axes>"
      ]
     },
     "metadata": {
      "needs_background": "light"
     },
     "output_type": "display_data"
    }
   ],
   "source": [
    "pl.clf()\n",
    "pl.plot(df['datetime'], df['close'])\n",
    "pl.\n",
    "pl.show()"
   ]
  },
  {
   "cell_type": "code",
   "execution_count": 11,
   "metadata": {},
   "outputs": [
    {
     "data": {
      "text/plain": [
       "0            NaN\n",
       "1       22581.74\n",
       "2       22588.76\n",
       "3       22468.94\n",
       "4       22741.71\n",
       "          ...   \n",
       "1996    49483.03\n",
       "1997    49394.21\n",
       "1998    49802.05\n",
       "1999    49764.77\n",
       "2000    49626.71\n",
       "Name: close, Length: 2001, dtype: float64"
      ]
     },
     "execution_count": 11,
     "metadata": {},
     "output_type": "execute_result"
    }
   ],
   "source": [
    "df['close'].shift()"
   ]
  },
  {
   "cell_type": "code",
   "execution_count": 12,
   "metadata": {},
   "outputs": [
    {
     "data": {
      "image/png": "[encoded data removed]",
      "text/plain": [
       "<Figure size 432x288 with 1 Axes>"
      ]
     },
     "metadata": {
      "needs_background": "light"
     },
     "output_type": "display_data"
    }
   ],
   "source": [
    "pl.clf()\n",
    "pl.hist(df['close'].shift() / df['close'], bins='sturges')\n",
    "pl.show()"
   ]
  },
  {
   "cell_type": "code",
   "execution_count": 13,
   "metadata": {},
   "outputs": [
    {
     "data": {
      "image/png": "[encoded data removed]",
      "text/plain": [
       "<Figure size 432x288 with 1 Axes>"
      ]
     },
     "metadata": {
      "needs_background": "light"
     },
     "output_type": "display_data"
    }
   ],
   "source": [
    "pl.clf()\n",
    "pl.hist(df['close'].shift(2) / df['close'], bins='sturges')\n",
    "pl.show()"
   ]
  },
  {
   "cell_type": "code",
   "execution_count": 14,
   "metadata": {},
   "outputs": [
    {
     "data": {
      "image/png": "[encoded data removed]",
      "text/plain": [
       "<Figure size 432x288 with 1 Axes>"
      ]
     },
     "metadata": {
      "needs_background": "light"
     },
     "output_type": "display_data"
    }
   ],
   "source": [
    "pl.clf()\n",
    "pl.hist(df['close'].shift(3) / df['close'], bins='sturges')\n",
    "pl.show()"
   ]
  },
  {
   "cell_type": "code",
   "execution_count": 15,
   "metadata": {},
   "outputs": [
    {
     "data": {
      "image/png": "[encoded data removed]",
      "text/plain": [
       "<Figure size 432x288 with 1 Axes>"
      ]
     },
     "metadata": {
      "needs_background": "light"
     },
     "output_type": "display_data"
    }
   ],
   "source": [
    "pl.clf()\n",
    "pl.hist(df['close'].shift(24) / df['close'], bins='sturges')\n",
    "pl.show()"
   ]
  },
  {
   "cell_type": "code",
   "execution_count": 16,
   "metadata": {},
   "outputs": [
    {
     "data": {
      "image/png": "[encoded data removed]",
      "text/plain": [
       "<Figure size 432x288 with 1 Axes>"
      ]
     },
     "metadata": {
      "needs_background": "light"
     },
     "output_type": "display_data"
    }
   ],
   "source": [
    "pl.clf()\n",
    "pl.hist(df['close'].shift(7 * 24) / df['close'], bins='sturges')\n",
    "pl.show()"
   ]
  },
  {
   "cell_type": "code",
   "execution_count": 17,
   "metadata": {},
   "outputs": [],
   "source": [
    "def compute_gains(df: pd.DataFrame, hours: int, drop: float):\n",
    "    close_shift = df['close'].shift(hours)\n",
    "    ratio = df['close'] / close_shift\n",
    "    \n",
    "    btc = 0.0\n",
    "    eur = 0.0\n",
    "\n",
    "    last = -hours\n",
    "    \n",
    "    for i in range(len(df)):\n",
    "        if ratio[i] < (1-drop) and last + hours <= i:\n",
    "            last = i\n",
    "            btc += 1.0 / df['close'][i]\n",
    "            eur += 1.0\n",
    "    return btc, eur, btc / eur if eur > 0 else 0.0"
   ]
  },
  {
   "cell_type": "code",
   "execution_count": 18,
   "metadata": {},
   "outputs": [],
   "source": [
    "def compute_dca(df: pd.DataFrame, hours: int):    \n",
    "    btc = 0.0\n",
    "    eur = 0.0\n",
    "    \n",
    "    last = -hours\n",
    "    \n",
    "    for i in range(len(df)):\n",
    "        if last + hours <= i:\n",
    "            last = i\n",
    "            btc += 1.0 / df['close'][i]\n",
    "            eur += 1.0\n",
    "    return btc, eur, btc / eur if eur > 0 else 0.0"
   ]
  },
  {
   "cell_type": "code",
   "execution_count": 19,
   "metadata": {},
   "outputs": [
    {
     "data": {
      "text/plain": [
       "(0.00018338533396577644, 5.0, 3.667706679315529e-05)"
      ]
     },
     "execution_count": 19,
     "metadata": {},
     "output_type": "execute_result"
    }
   ],
   "source": [
    "compute_gains(df, 1, 0.05)"
   ]
  },
  {
   "cell_type": "code",
   "execution_count": 20,
   "metadata": {},
   "outputs": [
    {
     "data": {
      "text/plain": [
       "(0.00021539932193016136, 6.0, 3.5899886988360225e-05)"
      ]
     },
     "execution_count": 20,
     "metadata": {},
     "output_type": "execute_result"
    }
   ],
   "source": [
    "compute_gains(df, 2, 0.05)"
   ]
  },
  {
   "cell_type": "code",
   "execution_count": 21,
   "metadata": {},
   "outputs": [
    {
     "data": {
      "text/plain": [
       "(0.06002080831882478, 2001.0, 2.99954064561843e-05)"
      ]
     },
     "execution_count": 21,
     "metadata": {},
     "output_type": "execute_result"
    }
   ],
   "source": [
    "compute_dca(df, 1)"
   ]
  },
  {
   "cell_type": "code",
   "execution_count": 22,
   "metadata": {},
   "outputs": [
    {
     "data": {
      "text/plain": [
       "(0.03002975001043276, 1001.0, 2.9999750260172587e-05)"
      ]
     },
     "execution_count": 22,
     "metadata": {},
     "output_type": "execute_result"
    }
   ],
   "source": [
    "compute_dca(df, 2)"
   ]
  },
  {
   "cell_type": "code",
   "execution_count": 23,
   "metadata": {},
   "outputs": [],
   "source": [
    "hours = np.arange(1, 25)\n",
    "drops = np.linspace(0.01, 0.25, 15)\n",
    "factor = np.zeros(hours.shape + drops.shape)"
   ]
  },
  {
   "cell_type": "code",
   "execution_count": 24,
   "metadata": {},
   "outputs": [],
   "source": [
    "for i, hour in enumerate(hours):\n",
    "    for j, drop in enumerate(drops):\n",
    "        factor[i, j] = compute_gains(df, hour, drop)[2]"
   ]
  },
  {
   "cell_type": "code",
   "execution_count": 25,
   "metadata": {},
   "outputs": [
    {
     "name": "stderr",
     "output_type": "stream",
     "text": [
      "<ipython-input-25-0dc9374620ff>:2: MatplotlibDeprecationWarning: shading='flat' when X and Y have the same dimensions as C is deprecated since 3.3.  Either specify the corners of the quadrilaterals with X and Y, or pass shading='auto', 'nearest' or 'gouraud', or set rcParams['pcolor.shading'].  This will become an error two minor releases later.\n",
      "  pl.pcolormesh(hours, drops * 100, factor.T, cmap='turbo')\n"
     ]
    },
    {
     "data": {
      "image/png": "[encoded data removed]",
      "text/plain": [
       "<Figure size 432x288 with 2 Axes>"
      ]
     },
     "metadata": {
      "needs_background": "light"
     },
     "output_type": "display_data"
    }
   ],
   "source": [
    "pl.clf()\n",
    "pl.pcolormesh(hours, drops * 100, factor.T, cmap='turbo')\n",
    "pl.colorbar()\n",
    "pl.title('BTC / EUR')\n",
    "pl.xlabel('Delay / h')\n",
    "pl.ylabel('Drop / %')\n",
    "pl.tight_layout()\n",
    "pl.savefig('gains.pdf')\n",
    "pl.show()"
   ]
  },
  {
   "cell_type": "code",
   "execution_count": null,
   "metadata": {},
   "outputs": [],
   "source": []
  },
  {
   "cell_type": "code",
   "execution_count": null,
   "metadata": {},
   "outputs": [],
   "source": []
  }
 ],
 "metadata": {
  "kernelspec": {
   "display_name": "Python 3",
   "language": "python",
   "name": "python3"
  },
  "language_info": {
   "codemirror_mode": {
    "name": "ipython",
    "version": 3
   },
   "file_extension": ".py",
   "mimetype": "text/x-python",
   "name": "python",
   "nbconvert_exporter": "python",
   "pygments_lexer": "ipython3",
   "version": "3.9.1"
  }
 },
 "nbformat": 4,
 "nbformat_minor": 4
}
