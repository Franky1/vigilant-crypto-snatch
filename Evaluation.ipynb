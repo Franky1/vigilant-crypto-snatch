{
 "cells": [
  {
   "cell_type": "code",
   "execution_count": 92,
   "metadata": {},
   "outputs": [],
   "source": [
    "import datetime\n",
    "import os\n",
    "\n",
    "import requests\n",
    "import pandas as pd\n",
    "import matplotlib.pyplot as pl\n",
    "import yaml\n",
    "import numpy as np"
   ]
  },
  {
   "cell_type": "code",
   "execution_count": 9,
   "metadata": {},
   "outputs": [],
   "source": [
    "with open(os.path.expanduser('~/.config/vigilant-crypto-snatch.yml')) as f:\n",
    "    config = yaml.safe_load(f)\n",
    "api_key = config['cryptocompare']['api_key']"
   ]
  },
  {
   "cell_type": "code",
   "execution_count": 16,
   "metadata": {},
   "outputs": [
    {
     "data": {
      "text/plain": [
       "1615923791"
      ]
     },
     "execution_count": 16,
     "metadata": {},
     "output_type": "execute_result"
    }
   ],
   "source": [
    "timestamp = int(datetime.datetime.now().timestamp())\n",
    "timestamp"
   ]
  },
  {
   "cell_type": "code",
   "execution_count": 39,
   "metadata": {},
   "outputs": [],
   "source": [
    "url = f'https://min-api.cryptocompare.com/data/histohour?api_key={api_key}&fsym=BTC&tsym=EUR&limit=2000&toTs={timestamp}'"
   ]
  },
  {
   "cell_type": "code",
   "execution_count": 40,
   "metadata": {},
   "outputs": [],
   "source": [
    "r = requests.get(url)"
   ]
  },
  {
   "cell_type": "code",
   "execution_count": 41,
   "metadata": {},
   "outputs": [
    {
     "data": {
      "text/plain": [
       "<Response [200]>"
      ]
     },
     "execution_count": 41,
     "metadata": {},
     "output_type": "execute_result"
    }
   ],
   "source": [
    "r"
   ]
  },
  {
   "cell_type": "code",
   "execution_count": 42,
   "metadata": {},
   "outputs": [],
   "source": [
    "data = r.json()['Data']\n",
    "df = pd.DataFrame(data)"
   ]
  },
  {
   "cell_type": "code",
   "execution_count": 43,
   "metadata": {},
   "outputs": [
    {
     "data": {
      "text/html": [
       "<div>\n",
       "<style scoped>\n",
       "    .dataframe tbody tr th:only-of-type {\n",
       "        vertical-align: middle;\n",
       "    }\n",
       "\n",
       "    .dataframe tbody tr th {\n",
       "        vertical-align: top;\n",
       "    }\n",
       "\n",
       "    .dataframe thead th {\n",
       "        text-align: right;\n",
       "    }\n",
       "</style>\n",
       "<table border=\"1\" class=\"dataframe\">\n",
       "  <thead>\n",
       "    <tr style=\"text-align: right;\">\n",
       "      <th></th>\n",
       "      <th>time</th>\n",
       "      <th>high</th>\n",
       "      <th>low</th>\n",
       "      <th>open</th>\n",
       "      <th>volumefrom</th>\n",
       "      <th>volumeto</th>\n",
       "      <th>close</th>\n",
       "      <th>conversionType</th>\n",
       "      <th>conversionSymbol</th>\n",
       "    </tr>\n",
       "  </thead>\n",
       "  <tbody>\n",
       "    <tr>\n",
       "      <th>0</th>\n",
       "      <td>1608721200</td>\n",
       "      <td>19267.64</td>\n",
       "      <td>18732.09</td>\n",
       "      <td>19246.71</td>\n",
       "      <td>2397.88</td>\n",
       "      <td>45418504.41</td>\n",
       "      <td>18969.71</td>\n",
       "      <td>direct</td>\n",
       "      <td></td>\n",
       "    </tr>\n",
       "    <tr>\n",
       "      <th>1</th>\n",
       "      <td>1608724800</td>\n",
       "      <td>19580.91</td>\n",
       "      <td>18856.75</td>\n",
       "      <td>18969.71</td>\n",
       "      <td>1646.43</td>\n",
       "      <td>31691231.32</td>\n",
       "      <td>19573.72</td>\n",
       "      <td>direct</td>\n",
       "      <td></td>\n",
       "    </tr>\n",
       "    <tr>\n",
       "      <th>2</th>\n",
       "      <td>1608728400</td>\n",
       "      <td>19784.46</td>\n",
       "      <td>19270.01</td>\n",
       "      <td>19573.72</td>\n",
       "      <td>1881.90</td>\n",
       "      <td>36824089.09</td>\n",
       "      <td>19384.43</td>\n",
       "      <td>direct</td>\n",
       "      <td></td>\n",
       "    </tr>\n",
       "    <tr>\n",
       "      <th>3</th>\n",
       "      <td>1608732000</td>\n",
       "      <td>19551.07</td>\n",
       "      <td>19333.74</td>\n",
       "      <td>19384.43</td>\n",
       "      <td>864.58</td>\n",
       "      <td>16799430.46</td>\n",
       "      <td>19470.07</td>\n",
       "      <td>direct</td>\n",
       "      <td></td>\n",
       "    </tr>\n",
       "    <tr>\n",
       "      <th>4</th>\n",
       "      <td>1608735600</td>\n",
       "      <td>19581.43</td>\n",
       "      <td>19183.15</td>\n",
       "      <td>19470.07</td>\n",
       "      <td>943.17</td>\n",
       "      <td>18283972.60</td>\n",
       "      <td>19268.55</td>\n",
       "      <td>direct</td>\n",
       "      <td></td>\n",
       "    </tr>\n",
       "    <tr>\n",
       "      <th>...</th>\n",
       "      <td>...</td>\n",
       "      <td>...</td>\n",
       "      <td>...</td>\n",
       "      <td>...</td>\n",
       "      <td>...</td>\n",
       "      <td>...</td>\n",
       "      <td>...</td>\n",
       "      <td>...</td>\n",
       "      <td>...</td>\n",
       "    </tr>\n",
       "    <tr>\n",
       "      <th>1996</th>\n",
       "      <td>1615906800</td>\n",
       "      <td>46943.53</td>\n",
       "      <td>46646.34</td>\n",
       "      <td>46730.86</td>\n",
       "      <td>539.97</td>\n",
       "      <td>25271674.77</td>\n",
       "      <td>46934.79</td>\n",
       "      <td>direct</td>\n",
       "      <td></td>\n",
       "    </tr>\n",
       "    <tr>\n",
       "      <th>1997</th>\n",
       "      <td>1615910400</td>\n",
       "      <td>47120.64</td>\n",
       "      <td>46658.64</td>\n",
       "      <td>46934.79</td>\n",
       "      <td>479.44</td>\n",
       "      <td>22485742.46</td>\n",
       "      <td>46825.04</td>\n",
       "      <td>direct</td>\n",
       "      <td></td>\n",
       "    </tr>\n",
       "    <tr>\n",
       "      <th>1998</th>\n",
       "      <td>1615914000</td>\n",
       "      <td>46946.24</td>\n",
       "      <td>46187.20</td>\n",
       "      <td>46825.04</td>\n",
       "      <td>571.56</td>\n",
       "      <td>26571941.25</td>\n",
       "      <td>46432.65</td>\n",
       "      <td>direct</td>\n",
       "      <td></td>\n",
       "    </tr>\n",
       "    <tr>\n",
       "      <th>1999</th>\n",
       "      <td>1615917600</td>\n",
       "      <td>46733.26</td>\n",
       "      <td>46320.71</td>\n",
       "      <td>46432.65</td>\n",
       "      <td>340.61</td>\n",
       "      <td>15845703.22</td>\n",
       "      <td>46505.40</td>\n",
       "      <td>direct</td>\n",
       "      <td></td>\n",
       "    </tr>\n",
       "    <tr>\n",
       "      <th>2000</th>\n",
       "      <td>1615921200</td>\n",
       "      <td>46836.38</td>\n",
       "      <td>46386.31</td>\n",
       "      <td>46505.40</td>\n",
       "      <td>236.31</td>\n",
       "      <td>11028059.54</td>\n",
       "      <td>46836.38</td>\n",
       "      <td>direct</td>\n",
       "      <td></td>\n",
       "    </tr>\n",
       "  </tbody>\n",
       "</table>\n",
       "<p>2001 rows × 9 columns</p>\n",
       "</div>"
      ],
      "text/plain": [
       "            time      high       low      open  volumefrom     volumeto  \\\n",
       "0     1608721200  19267.64  18732.09  19246.71     2397.88  45418504.41   \n",
       "1     1608724800  19580.91  18856.75  18969.71     1646.43  31691231.32   \n",
       "2     1608728400  19784.46  19270.01  19573.72     1881.90  36824089.09   \n",
       "3     1608732000  19551.07  19333.74  19384.43      864.58  16799430.46   \n",
       "4     1608735600  19581.43  19183.15  19470.07      943.17  18283972.60   \n",
       "...          ...       ...       ...       ...         ...          ...   \n",
       "1996  1615906800  46943.53  46646.34  46730.86      539.97  25271674.77   \n",
       "1997  1615910400  47120.64  46658.64  46934.79      479.44  22485742.46   \n",
       "1998  1615914000  46946.24  46187.20  46825.04      571.56  26571941.25   \n",
       "1999  1615917600  46733.26  46320.71  46432.65      340.61  15845703.22   \n",
       "2000  1615921200  46836.38  46386.31  46505.40      236.31  11028059.54   \n",
       "\n",
       "         close conversionType conversionSymbol  \n",
       "0     18969.71         direct                   \n",
       "1     19573.72         direct                   \n",
       "2     19384.43         direct                   \n",
       "3     19470.07         direct                   \n",
       "4     19268.55         direct                   \n",
       "...        ...            ...              ...  \n",
       "1996  46934.79         direct                   \n",
       "1997  46825.04         direct                   \n",
       "1998  46432.65         direct                   \n",
       "1999  46505.40         direct                   \n",
       "2000  46836.38         direct                   \n",
       "\n",
       "[2001 rows x 9 columns]"
      ]
     },
     "execution_count": 43,
     "metadata": {},
     "output_type": "execute_result"
    }
   ],
   "source": [
    "df"
   ]
  },
  {
   "cell_type": "code",
   "execution_count": 44,
   "metadata": {},
   "outputs": [
    {
     "data": {
      "image/png": "[encoded data removed]",
      "text/plain": [
       "<Figure size 432x288 with 1 Axes>"
      ]
     },
     "metadata": {
      "needs_background": "light"
     },
     "output_type": "display_data"
    }
   ],
   "source": [
    "pl.clf()\n",
    "pl.plot(df['time'], df['close'])\n",
    "pl.show()"
   ]
  },
  {
   "cell_type": "code",
   "execution_count": 46,
   "metadata": {},
   "outputs": [
    {
     "data": {
      "text/plain": [
       "0            NaN\n",
       "1       18969.71\n",
       "2       19573.72\n",
       "3       19384.43\n",
       "4       19470.07\n",
       "          ...   \n",
       "1996    46730.86\n",
       "1997    46934.79\n",
       "1998    46825.04\n",
       "1999    46432.65\n",
       "2000    46505.40\n",
       "Name: close, Length: 2001, dtype: float64"
      ]
     },
     "execution_count": 46,
     "metadata": {},
     "output_type": "execute_result"
    }
   ],
   "source": [
    "df['close'].shift()"
   ]
  },
  {
   "cell_type": "code",
   "execution_count": 50,
   "metadata": {},
   "outputs": [
    {
     "data": {
      "image/png": "[encoded data removed]",
      "text/plain": [
       "<Figure size 432x288 with 1 Axes>"
      ]
     },
     "metadata": {
      "needs_background": "light"
     },
     "output_type": "display_data"
    }
   ],
   "source": [
    "pl.clf()\n",
    "pl.hist(df['close'].shift() / df['close'], bins='sturges')\n",
    "pl.show()"
   ]
  },
  {
   "cell_type": "code",
   "execution_count": 51,
   "metadata": {},
   "outputs": [
    {
     "data": {
      "image/png": "[encoded data removed]",
      "text/plain": [
       "<Figure size 432x288 with 1 Axes>"
      ]
     },
     "metadata": {
      "needs_background": "light"
     },
     "output_type": "display_data"
    }
   ],
   "source": [
    "pl.clf()\n",
    "pl.hist(df['close'].shift(2) / df['close'], bins='sturges')\n",
    "pl.show()"
   ]
  },
  {
   "cell_type": "code",
   "execution_count": 52,
   "metadata": {},
   "outputs": [
    {
     "data": {
      "image/png": "[encoded data removed]",
      "text/plain": [
       "<Figure size 432x288 with 1 Axes>"
      ]
     },
     "metadata": {
      "needs_background": "light"
     },
     "output_type": "display_data"
    }
   ],
   "source": [
    "pl.clf()\n",
    "pl.hist(df['close'].shift(3) / df['close'], bins='sturges')\n",
    "pl.show()"
   ]
  },
  {
   "cell_type": "code",
   "execution_count": 53,
   "metadata": {},
   "outputs": [
    {
     "data": {
      "image/png": "[encoded data removed]",
      "text/plain": [
       "<Figure size 432x288 with 1 Axes>"
      ]
     },
     "metadata": {
      "needs_background": "light"
     },
     "output_type": "display_data"
    }
   ],
   "source": [
    "pl.clf()\n",
    "pl.hist(df['close'].shift(24) / df['close'], bins='sturges')\n",
    "pl.show()"
   ]
  },
  {
   "cell_type": "code",
   "execution_count": 54,
   "metadata": {},
   "outputs": [
    {
     "data": {
      "image/png": "[encoded data removed]",
      "text/plain": [
       "<Figure size 432x288 with 1 Axes>"
      ]
     },
     "metadata": {
      "needs_background": "light"
     },
     "output_type": "display_data"
    }
   ],
   "source": [
    "pl.clf()\n",
    "pl.hist(df['close'].shift(7 * 24) / df['close'], bins='sturges')\n",
    "pl.show()"
   ]
  },
  {
   "cell_type": "code",
   "execution_count": 106,
   "metadata": {},
   "outputs": [],
   "source": [
    "def compute_gains(df: pd.DataFrame, hours: int, drop: float):\n",
    "    close_shift = df['close'].shift(hours)\n",
    "    ratio = df['close'] / close_shift\n",
    "    \n",
    "    btc = 0.0\n",
    "    eur = 0.0\n",
    "\n",
    "    last = -hours\n",
    "    \n",
    "    for i in range(len(df)):\n",
    "        if ratio[i] < (1-drop) and last + hours <= i:\n",
    "            last = i\n",
    "            btc += 1.0 / df['close'][i]\n",
    "            eur += 1.0\n",
    "    return btc, eur, btc / eur if eur > 0 else 0.0"
   ]
  },
  {
   "cell_type": "code",
   "execution_count": 105,
   "metadata": {},
   "outputs": [],
   "source": [
    "def compute_dca(df: pd.DataFrame, hours: int):    \n",
    "    btc = 0.0\n",
    "    eur = 0.0\n",
    "    \n",
    "    last = -hours\n",
    "    \n",
    "    for i in range(len(df)):\n",
    "        if last + hours <= i:\n",
    "            last = i\n",
    "            btc += 1.0 / df['close'][i]\n",
    "            eur += 1.0\n",
    "    return btc, eur, btc / eur if eur > 0 else 0.0"
   ]
  },
  {
   "cell_type": "code",
   "execution_count": 87,
   "metadata": {},
   "outputs": [
    {
     "data": {
      "text/plain": [
       "(0.00018338533396577644, 5.0, 3.667706679315529e-05)"
      ]
     },
     "execution_count": 87,
     "metadata": {},
     "output_type": "execute_result"
    }
   ],
   "source": [
    "compute_gains(df, 1, 0.05)"
   ]
  },
  {
   "cell_type": "code",
   "execution_count": 88,
   "metadata": {},
   "outputs": [
    {
     "data": {
      "text/plain": [
       "(0.00021539932193016136, 6.0, 3.5899886988360225e-05)"
      ]
     },
     "execution_count": 88,
     "metadata": {},
     "output_type": "execute_result"
    }
   ],
   "source": [
    "compute_gains(df, 2, 0.05)"
   ]
  },
  {
   "cell_type": "code",
   "execution_count": 89,
   "metadata": {},
   "outputs": [
    {
     "data": {
      "text/plain": [
       "(0.06272436842799423, 2001.0, 3.1346510958517855e-05)"
      ]
     },
     "execution_count": 89,
     "metadata": {},
     "output_type": "execute_result"
    }
   ],
   "source": [
    "compute_dca(df, 1)"
   ]
  },
  {
   "cell_type": "code",
   "execution_count": 90,
   "metadata": {},
   "outputs": [
    {
     "data": {
      "text/plain": [
       "(0.03137736877627134, 1001.0, 3.134602275351782e-05)"
      ]
     },
     "execution_count": 90,
     "metadata": {},
     "output_type": "execute_result"
    }
   ],
   "source": [
    "compute_dca(df, 2)"
   ]
  },
  {
   "cell_type": "code",
   "execution_count": 115,
   "metadata": {},
   "outputs": [],
   "source": [
    "hours = np.arange(1, 25)\n",
    "drops = np.linspace(0.01, 0.25, 15)\n",
    "factor = np.zeros(hours.shape + drops.shape)"
   ]
  },
  {
   "cell_type": "code",
   "execution_count": 116,
   "metadata": {},
   "outputs": [],
   "source": [
    "for i, hour in enumerate(hours):\n",
    "    for j, drop in enumerate(drops):\n",
    "        factor[i, j] = compute_gains(df, hour, drop)[2]"
   ]
  },
  {
   "cell_type": "code",
   "execution_count": 117,
   "metadata": {},
   "outputs": [
    {
     "name": "stderr",
     "output_type": "stream",
     "text": [
      "<ipython-input-117-0dc9374620ff>:2: MatplotlibDeprecationWarning: shading='flat' when X and Y have the same dimensions as C is deprecated since 3.3.  Either specify the corners of the quadrilaterals with X and Y, or pass shading='auto', 'nearest' or 'gouraud', or set rcParams['pcolor.shading'].  This will become an error two minor releases later.\n",
      "  pl.pcolormesh(hours, drops * 100, factor.T, cmap='turbo')\n"
     ]
    },
    {
     "data": {
      "image/png": "[encoded data removed]",
      "text/plain": [
       "<Figure size 432x288 with 2 Axes>"
      ]
     },
     "metadata": {
      "needs_background": "light"
     },
     "output_type": "display_data"
    }
   ],
   "source": [
    "pl.clf()\n",
    "pl.pcolormesh(hours, drops * 100, factor.T, cmap='turbo')\n",
    "pl.colorbar()\n",
    "pl.title('BTC / EUR')\n",
    "pl.xlabel('Delay / h')\n",
    "pl.ylabel('Drop / %')\n",
    "pl.tight_layout()\n",
    "pl.savefig('gains.pdf')\n",
    "pl.show()"
   ]
  },
  {
   "cell_type": "code",
   "execution_count": null,
   "metadata": {},
   "outputs": [],
   "source": []
  },
  {
   "cell_type": "code",
   "execution_count": null,
   "metadata": {},
   "outputs": [],
   "source": []
  }
 ],
 "metadata": {
  "kernelspec": {
   "display_name": "Python 3",
   "language": "python",
   "name": "python3"
  },
  "language_info": {
   "codemirror_mode": {
    "name": "ipython",
    "version": 3
   },
   "file_extension": ".py",
   "mimetype": "text/x-python",
   "name": "python",
   "nbconvert_exporter": "python",
   "pygments_lexer": "ipython3",
   "version": "3.9.1"
  }
 },
 "nbformat": 4,
 "nbformat_minor": 4
}
